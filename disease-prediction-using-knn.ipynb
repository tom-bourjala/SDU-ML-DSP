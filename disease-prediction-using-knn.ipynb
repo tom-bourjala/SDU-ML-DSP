{
 "cells": [
  {
   "cell_type": "code",
   "execution_count": 3,
   "id": "d4d3d0cf",
   "metadata": {
    "_cell_guid": "b1076dfc-b9ad-4769-8c92-a6c4dae69d19",
    "_uuid": "8f2839f25d086af736a60e9eeb907d3b93b6e0e5",
    "execution": {
     "iopub.execute_input": "2021-08-17T05:50:17.780250Z",
     "iopub.status.busy": "2021-08-17T05:50:17.779070Z",
     "iopub.status.idle": "2021-08-17T05:50:17.799625Z",
     "shell.execute_reply": "2021-08-17T05:50:17.800420Z",
     "shell.execute_reply.started": "2021-08-17T05:40:40.190911Z"
    },
    "papermill": {
     "duration": 0.039996,
     "end_time": "2021-08-17T05:50:17.800818",
     "exception": false,
     "start_time": "2021-08-17T05:50:17.760822",
     "status": "completed"
    },
    "tags": []
   },
   "outputs": [],
   "source": [
    "# This Python 3 environment comes with many helpful analytics libraries installed\n",
    "# It is defined by the kaggle/python Docker image: https://github.com/kaggle/docker-python\n",
    "# For example, here's several helpful packages to load\n",
    "\n",
    "import numpy as np # linear algebra\n",
    "import pandas as pd # data processing, CSV file I/O (e.g. pd.read_csv)\n",
    "\n",
    "# Input data files are available in the read-only \"../input/\" directory\n",
    "# For example, running this (by clicking run or pressing Shift+Enter) will list all files under the input directory\n",
    "\n",
    "import os\n",
    "for dirname, _, filenames in os.walk('/kaggle/input'):\n",
    "    for filename in filenames:\n",
    "        print(os.path.join(dirname, filename))\n",
    "\n",
    "# You can write up to 20GB to the current directory (/kaggle/working/) that gets preserved as output when you create a version using \"Save & Run All\" \n",
    "# You can also write temporary files to /kaggle/temp/, but they won't be saved outside of the current session"
   ]
  },
  {
   "cell_type": "code",
   "execution_count": 4,
   "id": "8eb15a34",
   "metadata": {
    "execution": {
     "iopub.execute_input": "2021-08-17T05:50:17.834649Z",
     "iopub.status.busy": "2021-08-17T05:50:17.833904Z",
     "iopub.status.idle": "2021-08-17T05:50:19.055102Z",
     "shell.execute_reply": "2021-08-17T05:50:19.054537Z",
     "shell.execute_reply.started": "2021-08-17T05:41:40.508501Z"
    },
    "papermill": {
     "duration": 1.238172,
     "end_time": "2021-08-17T05:50:19.055238",
     "exception": false,
     "start_time": "2021-08-17T05:50:17.817066",
     "status": "completed"
    },
    "tags": []
   },
   "outputs": [],
   "source": [
    "import matplotlib.pyplot as plt \n",
    "import sklearn \n",
    "from sklearn.preprocessing import  LabelEncoder \n",
    "from sklearn.model_selection import train_test_split\n",
    "from sklearn.metrics import classification_report\n",
    "from sklearn.neighbors import KNeighborsClassifier"
   ]
  },
  {
   "cell_type": "code",
   "execution_count": 5,
   "id": "2cfbc6f9",
   "metadata": {
    "execution": {
     "iopub.execute_input": "2021-08-17T05:50:19.090506Z",
     "iopub.status.busy": "2021-08-17T05:50:19.089769Z",
     "iopub.status.idle": "2021-08-17T05:50:19.142300Z",
     "shell.execute_reply": "2021-08-17T05:50:19.141680Z",
     "shell.execute_reply.started": "2021-08-17T05:44:46.358716Z"
    },
    "papermill": {
     "duration": 0.072283,
     "end_time": "2021-08-17T05:50:19.142497",
     "exception": false,
     "start_time": "2021-08-17T05:50:19.070214",
     "status": "completed"
    },
    "tags": []
   },
   "outputs": [],
   "source": [
    "df1 = pd.read_csv('./resources/dataset.csv')\n",
    "df2 = pd.read_csv('./resources/symptom_description.csv')\n",
    "df3 = pd.read_csv('./resources/symptom_precaution.csv')\n",
    "df4 = pd.read_csv('./resources/symptom_severity.csv')"
   ]
  },
  {
   "cell_type": "code",
   "execution_count": 6,
   "id": "219bea1e",
   "metadata": {
    "execution": {
     "iopub.execute_input": "2021-08-17T05:50:19.181323Z",
     "iopub.status.busy": "2021-08-17T05:50:19.180600Z",
     "iopub.status.idle": "2021-08-17T05:50:19.222746Z",
     "shell.execute_reply": "2021-08-17T05:50:19.223226Z",
     "shell.execute_reply.started": "2021-08-17T05:45:13.574782Z"
    },
    "papermill": {
     "duration": 0.066341,
     "end_time": "2021-08-17T05:50:19.223418",
     "exception": false,
     "start_time": "2021-08-17T05:50:19.157077",
     "status": "completed"
    },
    "tags": []
   },
   "outputs": [
    {
     "data": {
      "text/plain": "            Disease   Symptom_1              Symptom_2              Symptom_3  \\\n0  Fungal infection     itching              skin_rash   nodal_skin_eruptions   \n1  Fungal infection   skin_rash   nodal_skin_eruptions    dischromic _patches   \n2  Fungal infection     itching   nodal_skin_eruptions    dischromic _patches   \n3  Fungal infection     itching              skin_rash    dischromic _patches   \n4  Fungal infection     itching              skin_rash   nodal_skin_eruptions   \n\n              Symptom_4 Symptom_5 Symptom_6 Symptom_7 Symptom_8 Symptom_9  \\\n0   dischromic _patches       NaN       NaN       NaN       NaN       NaN   \n1                   NaN       NaN       NaN       NaN       NaN       NaN   \n2                   NaN       NaN       NaN       NaN       NaN       NaN   \n3                   NaN       NaN       NaN       NaN       NaN       NaN   \n4                   NaN       NaN       NaN       NaN       NaN       NaN   \n\n  Symptom_10 Symptom_11 Symptom_12 Symptom_13 Symptom_14 Symptom_15  \\\n0        NaN        NaN        NaN        NaN        NaN        NaN   \n1        NaN        NaN        NaN        NaN        NaN        NaN   \n2        NaN        NaN        NaN        NaN        NaN        NaN   \n3        NaN        NaN        NaN        NaN        NaN        NaN   \n4        NaN        NaN        NaN        NaN        NaN        NaN   \n\n  Symptom_16 Symptom_17                                        Description  \n0        NaN        NaN  In humans, fungal infections occur when an inv...  \n1        NaN        NaN  In humans, fungal infections occur when an inv...  \n2        NaN        NaN  In humans, fungal infections occur when an inv...  \n3        NaN        NaN  In humans, fungal infections occur when an inv...  \n4        NaN        NaN  In humans, fungal infections occur when an inv...  ",
      "text/html": "<div>\n<style scoped>\n    .dataframe tbody tr th:only-of-type {\n        vertical-align: middle;\n    }\n\n    .dataframe tbody tr th {\n        vertical-align: top;\n    }\n\n    .dataframe thead th {\n        text-align: right;\n    }\n</style>\n<table border=\"1\" class=\"dataframe\">\n  <thead>\n    <tr style=\"text-align: right;\">\n      <th></th>\n      <th>Disease</th>\n      <th>Symptom_1</th>\n      <th>Symptom_2</th>\n      <th>Symptom_3</th>\n      <th>Symptom_4</th>\n      <th>Symptom_5</th>\n      <th>Symptom_6</th>\n      <th>Symptom_7</th>\n      <th>Symptom_8</th>\n      <th>Symptom_9</th>\n      <th>Symptom_10</th>\n      <th>Symptom_11</th>\n      <th>Symptom_12</th>\n      <th>Symptom_13</th>\n      <th>Symptom_14</th>\n      <th>Symptom_15</th>\n      <th>Symptom_16</th>\n      <th>Symptom_17</th>\n      <th>Description</th>\n    </tr>\n  </thead>\n  <tbody>\n    <tr>\n      <th>0</th>\n      <td>Fungal infection</td>\n      <td>itching</td>\n      <td>skin_rash</td>\n      <td>nodal_skin_eruptions</td>\n      <td>dischromic _patches</td>\n      <td>NaN</td>\n      <td>NaN</td>\n      <td>NaN</td>\n      <td>NaN</td>\n      <td>NaN</td>\n      <td>NaN</td>\n      <td>NaN</td>\n      <td>NaN</td>\n      <td>NaN</td>\n      <td>NaN</td>\n      <td>NaN</td>\n      <td>NaN</td>\n      <td>NaN</td>\n      <td>In humans, fungal infections occur when an inv...</td>\n    </tr>\n    <tr>\n      <th>1</th>\n      <td>Fungal infection</td>\n      <td>skin_rash</td>\n      <td>nodal_skin_eruptions</td>\n      <td>dischromic _patches</td>\n      <td>NaN</td>\n      <td>NaN</td>\n      <td>NaN</td>\n      <td>NaN</td>\n      <td>NaN</td>\n      <td>NaN</td>\n      <td>NaN</td>\n      <td>NaN</td>\n      <td>NaN</td>\n      <td>NaN</td>\n      <td>NaN</td>\n      <td>NaN</td>\n      <td>NaN</td>\n      <td>NaN</td>\n      <td>In humans, fungal infections occur when an inv...</td>\n    </tr>\n    <tr>\n      <th>2</th>\n      <td>Fungal infection</td>\n      <td>itching</td>\n      <td>nodal_skin_eruptions</td>\n      <td>dischromic _patches</td>\n      <td>NaN</td>\n      <td>NaN</td>\n      <td>NaN</td>\n      <td>NaN</td>\n      <td>NaN</td>\n      <td>NaN</td>\n      <td>NaN</td>\n      <td>NaN</td>\n      <td>NaN</td>\n      <td>NaN</td>\n      <td>NaN</td>\n      <td>NaN</td>\n      <td>NaN</td>\n      <td>NaN</td>\n      <td>In humans, fungal infections occur when an inv...</td>\n    </tr>\n    <tr>\n      <th>3</th>\n      <td>Fungal infection</td>\n      <td>itching</td>\n      <td>skin_rash</td>\n      <td>dischromic _patches</td>\n      <td>NaN</td>\n      <td>NaN</td>\n      <td>NaN</td>\n      <td>NaN</td>\n      <td>NaN</td>\n      <td>NaN</td>\n      <td>NaN</td>\n      <td>NaN</td>\n      <td>NaN</td>\n      <td>NaN</td>\n      <td>NaN</td>\n      <td>NaN</td>\n      <td>NaN</td>\n      <td>NaN</td>\n      <td>In humans, fungal infections occur when an inv...</td>\n    </tr>\n    <tr>\n      <th>4</th>\n      <td>Fungal infection</td>\n      <td>itching</td>\n      <td>skin_rash</td>\n      <td>nodal_skin_eruptions</td>\n      <td>NaN</td>\n      <td>NaN</td>\n      <td>NaN</td>\n      <td>NaN</td>\n      <td>NaN</td>\n      <td>NaN</td>\n      <td>NaN</td>\n      <td>NaN</td>\n      <td>NaN</td>\n      <td>NaN</td>\n      <td>NaN</td>\n      <td>NaN</td>\n      <td>NaN</td>\n      <td>NaN</td>\n      <td>In humans, fungal infections occur when an inv...</td>\n    </tr>\n  </tbody>\n</table>\n</div>"
     },
     "execution_count": 6,
     "metadata": {},
     "output_type": "execute_result"
    }
   ],
   "source": [
    "combined_df = pd.merge(df1, df2, on = 'Disease')\n",
    "combined_df.head(5)"
   ]
  },
  {
   "cell_type": "code",
   "execution_count": 7,
   "id": "5c8a611f",
   "metadata": {
    "execution": {
     "iopub.execute_input": "2021-08-17T05:50:19.260567Z",
     "iopub.status.busy": "2021-08-17T05:50:19.259785Z",
     "iopub.status.idle": "2021-08-17T05:50:19.288752Z",
     "shell.execute_reply": "2021-08-17T05:50:19.288125Z",
     "shell.execute_reply.started": "2021-08-17T05:45:45.020678Z"
    },
    "papermill": {
     "duration": 0.050479,
     "end_time": "2021-08-17T05:50:19.288901",
     "exception": false,
     "start_time": "2021-08-17T05:50:19.238422",
     "status": "completed"
    },
    "tags": []
   },
   "outputs": [
    {
     "data": {
      "text/plain": "            Disease   Symptom_1              Symptom_2              Symptom_3  \\\n0  Fungal infection     itching              skin_rash   nodal_skin_eruptions   \n1  Fungal infection   skin_rash   nodal_skin_eruptions    dischromic _patches   \n2  Fungal infection     itching   nodal_skin_eruptions    dischromic _patches   \n3  Fungal infection     itching              skin_rash    dischromic _patches   \n4  Fungal infection     itching              skin_rash   nodal_skin_eruptions   \n\n              Symptom_4 Symptom_5 Symptom_6 Symptom_7 Symptom_8 Symptom_9  \\\n0   dischromic _patches       NaN       NaN       NaN       NaN       NaN   \n1                   NaN       NaN       NaN       NaN       NaN       NaN   \n2                   NaN       NaN       NaN       NaN       NaN       NaN   \n3                   NaN       NaN       NaN       NaN       NaN       NaN   \n4                   NaN       NaN       NaN       NaN       NaN       NaN   \n\n   ... Symptom_13 Symptom_14 Symptom_15 Symptom_16 Symptom_17  \\\n0  ...        NaN        NaN        NaN        NaN        NaN   \n1  ...        NaN        NaN        NaN        NaN        NaN   \n2  ...        NaN        NaN        NaN        NaN        NaN   \n3  ...        NaN        NaN        NaN        NaN        NaN   \n4  ...        NaN        NaN        NaN        NaN        NaN   \n\n                                         Description Precaution_1  \\\n0  In humans, fungal infections occur when an inv...   bath twice   \n1  In humans, fungal infections occur when an inv...   bath twice   \n2  In humans, fungal infections occur when an inv...   bath twice   \n3  In humans, fungal infections occur when an inv...   bath twice   \n4  In humans, fungal infections occur when an inv...   bath twice   \n\n                         Precaution_2            Precaution_3  \\\n0  use detol or neem in bathing water  keep infected area dry   \n1  use detol or neem in bathing water  keep infected area dry   \n2  use detol or neem in bathing water  keep infected area dry   \n3  use detol or neem in bathing water  keep infected area dry   \n4  use detol or neem in bathing water  keep infected area dry   \n\n       Precaution_4  \n0  use clean cloths  \n1  use clean cloths  \n2  use clean cloths  \n3  use clean cloths  \n4  use clean cloths  \n\n[5 rows x 23 columns]",
      "text/html": "<div>\n<style scoped>\n    .dataframe tbody tr th:only-of-type {\n        vertical-align: middle;\n    }\n\n    .dataframe tbody tr th {\n        vertical-align: top;\n    }\n\n    .dataframe thead th {\n        text-align: right;\n    }\n</style>\n<table border=\"1\" class=\"dataframe\">\n  <thead>\n    <tr style=\"text-align: right;\">\n      <th></th>\n      <th>Disease</th>\n      <th>Symptom_1</th>\n      <th>Symptom_2</th>\n      <th>Symptom_3</th>\n      <th>Symptom_4</th>\n      <th>Symptom_5</th>\n      <th>Symptom_6</th>\n      <th>Symptom_7</th>\n      <th>Symptom_8</th>\n      <th>Symptom_9</th>\n      <th>...</th>\n      <th>Symptom_13</th>\n      <th>Symptom_14</th>\n      <th>Symptom_15</th>\n      <th>Symptom_16</th>\n      <th>Symptom_17</th>\n      <th>Description</th>\n      <th>Precaution_1</th>\n      <th>Precaution_2</th>\n      <th>Precaution_3</th>\n      <th>Precaution_4</th>\n    </tr>\n  </thead>\n  <tbody>\n    <tr>\n      <th>0</th>\n      <td>Fungal infection</td>\n      <td>itching</td>\n      <td>skin_rash</td>\n      <td>nodal_skin_eruptions</td>\n      <td>dischromic _patches</td>\n      <td>NaN</td>\n      <td>NaN</td>\n      <td>NaN</td>\n      <td>NaN</td>\n      <td>NaN</td>\n      <td>...</td>\n      <td>NaN</td>\n      <td>NaN</td>\n      <td>NaN</td>\n      <td>NaN</td>\n      <td>NaN</td>\n      <td>In humans, fungal infections occur when an inv...</td>\n      <td>bath twice</td>\n      <td>use detol or neem in bathing water</td>\n      <td>keep infected area dry</td>\n      <td>use clean cloths</td>\n    </tr>\n    <tr>\n      <th>1</th>\n      <td>Fungal infection</td>\n      <td>skin_rash</td>\n      <td>nodal_skin_eruptions</td>\n      <td>dischromic _patches</td>\n      <td>NaN</td>\n      <td>NaN</td>\n      <td>NaN</td>\n      <td>NaN</td>\n      <td>NaN</td>\n      <td>NaN</td>\n      <td>...</td>\n      <td>NaN</td>\n      <td>NaN</td>\n      <td>NaN</td>\n      <td>NaN</td>\n      <td>NaN</td>\n      <td>In humans, fungal infections occur when an inv...</td>\n      <td>bath twice</td>\n      <td>use detol or neem in bathing water</td>\n      <td>keep infected area dry</td>\n      <td>use clean cloths</td>\n    </tr>\n    <tr>\n      <th>2</th>\n      <td>Fungal infection</td>\n      <td>itching</td>\n      <td>nodal_skin_eruptions</td>\n      <td>dischromic _patches</td>\n      <td>NaN</td>\n      <td>NaN</td>\n      <td>NaN</td>\n      <td>NaN</td>\n      <td>NaN</td>\n      <td>NaN</td>\n      <td>...</td>\n      <td>NaN</td>\n      <td>NaN</td>\n      <td>NaN</td>\n      <td>NaN</td>\n      <td>NaN</td>\n      <td>In humans, fungal infections occur when an inv...</td>\n      <td>bath twice</td>\n      <td>use detol or neem in bathing water</td>\n      <td>keep infected area dry</td>\n      <td>use clean cloths</td>\n    </tr>\n    <tr>\n      <th>3</th>\n      <td>Fungal infection</td>\n      <td>itching</td>\n      <td>skin_rash</td>\n      <td>dischromic _patches</td>\n      <td>NaN</td>\n      <td>NaN</td>\n      <td>NaN</td>\n      <td>NaN</td>\n      <td>NaN</td>\n      <td>NaN</td>\n      <td>...</td>\n      <td>NaN</td>\n      <td>NaN</td>\n      <td>NaN</td>\n      <td>NaN</td>\n      <td>NaN</td>\n      <td>In humans, fungal infections occur when an inv...</td>\n      <td>bath twice</td>\n      <td>use detol or neem in bathing water</td>\n      <td>keep infected area dry</td>\n      <td>use clean cloths</td>\n    </tr>\n    <tr>\n      <th>4</th>\n      <td>Fungal infection</td>\n      <td>itching</td>\n      <td>skin_rash</td>\n      <td>nodal_skin_eruptions</td>\n      <td>NaN</td>\n      <td>NaN</td>\n      <td>NaN</td>\n      <td>NaN</td>\n      <td>NaN</td>\n      <td>NaN</td>\n      <td>...</td>\n      <td>NaN</td>\n      <td>NaN</td>\n      <td>NaN</td>\n      <td>NaN</td>\n      <td>NaN</td>\n      <td>In humans, fungal infections occur when an inv...</td>\n      <td>bath twice</td>\n      <td>use detol or neem in bathing water</td>\n      <td>keep infected area dry</td>\n      <td>use clean cloths</td>\n    </tr>\n  </tbody>\n</table>\n<p>5 rows × 23 columns</p>\n</div>"
     },
     "execution_count": 7,
     "metadata": {},
     "output_type": "execute_result"
    }
   ],
   "source": [
    "combined_df = pd.merge(combined_df , df3, on = 'Disease')\n",
    "combined_df.head(5)"
   ]
  },
  {
   "cell_type": "code",
   "execution_count": 8,
   "id": "06014b87",
   "metadata": {
    "execution": {
     "iopub.execute_input": "2021-08-17T05:50:19.339076Z",
     "iopub.status.busy": "2021-08-17T05:50:19.335727Z",
     "iopub.status.idle": "2021-08-17T05:50:19.344012Z",
     "shell.execute_reply": "2021-08-17T05:50:19.343493Z",
     "shell.execute_reply.started": "2021-08-17T05:46:33.115113Z"
    },
    "papermill": {
     "duration": 0.037898,
     "end_time": "2021-08-17T05:50:19.344169",
     "exception": false,
     "start_time": "2021-08-17T05:50:19.306271",
     "status": "completed"
    },
    "tags": []
   },
   "outputs": [
    {
     "data": {
      "text/plain": "Disease            0\nSymptom_1          0\nSymptom_2          0\nSymptom_3          0\nSymptom_4        348\nSymptom_5       1128\nSymptom_6       1746\nSymptom_7       2412\nSymptom_8       2736\nSymptom_9       2988\nSymptom_10      3120\nSymptom_11      3366\nSymptom_12      3816\nSymptom_13      4056\nSymptom_14      4254\nSymptom_15      4320\nSymptom_16      4368\nSymptom_17      4488\nDescription        0\nPrecaution_1       0\nPrecaution_2       0\nPrecaution_3     120\nPrecaution_4     120\ndtype: int64"
     },
     "execution_count": 8,
     "metadata": {},
     "output_type": "execute_result"
    }
   ],
   "source": [
    "combined_df.isna().sum()"
   ]
  },
  {
   "cell_type": "code",
   "execution_count": 9,
   "id": "f32da99e",
   "metadata": {
    "execution": {
     "iopub.execute_input": "2021-08-17T05:50:19.383745Z",
     "iopub.status.busy": "2021-08-17T05:50:19.382845Z",
     "iopub.status.idle": "2021-08-17T05:50:19.391683Z",
     "shell.execute_reply": "2021-08-17T05:50:19.392338Z",
     "shell.execute_reply.started": "2021-08-17T05:46:50.792323Z"
    },
    "papermill": {
     "duration": 0.032048,
     "end_time": "2021-08-17T05:50:19.392558",
     "exception": false,
     "start_time": "2021-08-17T05:50:19.360510",
     "status": "completed"
    },
    "tags": []
   },
   "outputs": [],
   "source": [
    "X = combined_df[['Symptom_1', 'Symptom_2', 'Symptom_3','Symptom_4','Symptom_5']].copy()"
   ]
  },
  {
   "cell_type": "code",
   "execution_count": 10,
   "id": "af66c19a",
   "metadata": {
    "execution": {
     "iopub.execute_input": "2021-08-17T05:50:19.437632Z",
     "iopub.status.busy": "2021-08-17T05:50:19.436848Z",
     "iopub.status.idle": "2021-08-17T05:50:19.441156Z",
     "shell.execute_reply": "2021-08-17T05:50:19.440329Z",
     "shell.execute_reply.started": "2021-08-17T05:47:06.464969Z"
    },
    "papermill": {
     "duration": 0.029891,
     "end_time": "2021-08-17T05:50:19.441362",
     "exception": false,
     "start_time": "2021-08-17T05:50:19.411471",
     "status": "completed"
    },
    "tags": []
   },
   "outputs": [],
   "source": [
    "le = LabelEncoder()"
   ]
  },
  {
   "cell_type": "code",
   "execution_count": 21,
   "id": "b7f0a94a",
   "metadata": {
    "execution": {
     "iopub.execute_input": "2021-08-17T05:50:19.483961Z",
     "iopub.status.busy": "2021-08-17T05:50:19.483210Z",
     "iopub.status.idle": "2021-08-17T05:50:19.514001Z",
     "shell.execute_reply": "2021-08-17T05:50:19.514563Z",
     "shell.execute_reply.started": "2021-08-17T05:47:26.624443Z"
    },
    "papermill": {
     "duration": 0.050308,
     "end_time": "2021-08-17T05:50:19.514745",
     "exception": false,
     "start_time": "2021-08-17T05:50:19.464437",
     "status": "completed"
    },
    "tags": []
   },
   "outputs": [
    {
     "name": "stderr",
     "output_type": "stream",
     "text": [
      "C:\\Users\\Tom Bourjala\\AppData\\Local\\Temp\\ipykernel_42216\\673180347.py:2: SettingWithCopyWarning: \n",
      "A value is trying to be set on a copy of a slice from a DataFrame.\n",
      "Try using .loc[row_indexer,col_indexer] = value instead\n",
      "\n",
      "See the caveats in the documentation: https://pandas.pydata.org/pandas-docs/stable/user_guide/indexing.html#returning-a-view-versus-a-copy\n",
      "  X.loc[:, i] = le.fit_transform(X.loc[:, i].astype(str)).copy()\n",
      "C:\\Users\\Tom Bourjala\\AppData\\Local\\Temp\\ipykernel_42216\\673180347.py:2: SettingWithCopyWarning: \n",
      "A value is trying to be set on a copy of a slice from a DataFrame.\n",
      "Try using .loc[row_indexer,col_indexer] = value instead\n",
      "\n",
      "See the caveats in the documentation: https://pandas.pydata.org/pandas-docs/stable/user_guide/indexing.html#returning-a-view-versus-a-copy\n",
      "  X.loc[:, i] = le.fit_transform(X.loc[:, i].astype(str)).copy()\n",
      "C:\\Users\\Tom Bourjala\\AppData\\Local\\Temp\\ipykernel_42216\\673180347.py:2: SettingWithCopyWarning: \n",
      "A value is trying to be set on a copy of a slice from a DataFrame.\n",
      "Try using .loc[row_indexer,col_indexer] = value instead\n",
      "\n",
      "See the caveats in the documentation: https://pandas.pydata.org/pandas-docs/stable/user_guide/indexing.html#returning-a-view-versus-a-copy\n",
      "  X.loc[:, i] = le.fit_transform(X.loc[:, i].astype(str)).copy()\n",
      "C:\\Users\\Tom Bourjala\\AppData\\Local\\Temp\\ipykernel_42216\\673180347.py:2: SettingWithCopyWarning: \n",
      "A value is trying to be set on a copy of a slice from a DataFrame.\n",
      "Try using .loc[row_indexer,col_indexer] = value instead\n",
      "\n",
      "See the caveats in the documentation: https://pandas.pydata.org/pandas-docs/stable/user_guide/indexing.html#returning-a-view-versus-a-copy\n",
      "  X.loc[:, i] = le.fit_transform(X.loc[:, i].astype(str)).copy()\n",
      "C:\\Users\\Tom Bourjala\\AppData\\Local\\Temp\\ipykernel_42216\\673180347.py:2: SettingWithCopyWarning: \n",
      "A value is trying to be set on a copy of a slice from a DataFrame.\n",
      "Try using .loc[row_indexer,col_indexer] = value instead\n",
      "\n",
      "See the caveats in the documentation: https://pandas.pydata.org/pandas-docs/stable/user_guide/indexing.html#returning-a-view-versus-a-copy\n",
      "  X.loc[:, i] = le.fit_transform(X.loc[:, i].astype(str)).copy()\n"
     ]
    },
    {
     "data": {
      "text/plain": "   Symptom_1  Symptom_2  Symptom_3  Symptom_4  Symptom_5\n0         27         42          5         34          6\n1         19         12         41         24          6\n2         27         12         41         24          6\n3         27         42         41         24          6\n4         27         42          5         24          6\n5         19         12         41         24          6\n6         27         12         41         24          6\n7         27         42         41         24          6\n8         27         42          5         24          6\n9         27         42          5         34          6",
      "text/html": "<div>\n<style scoped>\n    .dataframe tbody tr th:only-of-type {\n        vertical-align: middle;\n    }\n\n    .dataframe tbody tr th {\n        vertical-align: top;\n    }\n\n    .dataframe thead th {\n        text-align: right;\n    }\n</style>\n<table border=\"1\" class=\"dataframe\">\n  <thead>\n    <tr style=\"text-align: right;\">\n      <th></th>\n      <th>Symptom_1</th>\n      <th>Symptom_2</th>\n      <th>Symptom_3</th>\n      <th>Symptom_4</th>\n      <th>Symptom_5</th>\n    </tr>\n  </thead>\n  <tbody>\n    <tr>\n      <th>0</th>\n      <td>27</td>\n      <td>42</td>\n      <td>5</td>\n      <td>34</td>\n      <td>6</td>\n    </tr>\n    <tr>\n      <th>1</th>\n      <td>19</td>\n      <td>12</td>\n      <td>41</td>\n      <td>24</td>\n      <td>6</td>\n    </tr>\n    <tr>\n      <th>2</th>\n      <td>27</td>\n      <td>12</td>\n      <td>41</td>\n      <td>24</td>\n      <td>6</td>\n    </tr>\n    <tr>\n      <th>3</th>\n      <td>27</td>\n      <td>42</td>\n      <td>41</td>\n      <td>24</td>\n      <td>6</td>\n    </tr>\n    <tr>\n      <th>4</th>\n      <td>27</td>\n      <td>42</td>\n      <td>5</td>\n      <td>24</td>\n      <td>6</td>\n    </tr>\n    <tr>\n      <th>5</th>\n      <td>19</td>\n      <td>12</td>\n      <td>41</td>\n      <td>24</td>\n      <td>6</td>\n    </tr>\n    <tr>\n      <th>6</th>\n      <td>27</td>\n      <td>12</td>\n      <td>41</td>\n      <td>24</td>\n      <td>6</td>\n    </tr>\n    <tr>\n      <th>7</th>\n      <td>27</td>\n      <td>42</td>\n      <td>41</td>\n      <td>24</td>\n      <td>6</td>\n    </tr>\n    <tr>\n      <th>8</th>\n      <td>27</td>\n      <td>42</td>\n      <td>5</td>\n      <td>24</td>\n      <td>6</td>\n    </tr>\n    <tr>\n      <th>9</th>\n      <td>27</td>\n      <td>42</td>\n      <td>5</td>\n      <td>34</td>\n      <td>6</td>\n    </tr>\n  </tbody>\n</table>\n</div>"
     },
     "execution_count": 21,
     "metadata": {},
     "output_type": "execute_result"
    }
   ],
   "source": [
    "for i in X.columns:\n",
    "    X.loc[:, i] = le.fit_transform(X.loc[:, i].astype(str)).copy()\n",
    "X.head(10)"
   ]
  },
  {
   "cell_type": "code",
   "execution_count": 12,
   "id": "72ed1fdd",
   "metadata": {
    "execution": {
     "iopub.execute_input": "2021-08-17T05:50:19.566730Z",
     "iopub.status.busy": "2021-08-17T05:50:19.565746Z",
     "iopub.status.idle": "2021-08-17T05:50:19.573217Z",
     "shell.execute_reply": "2021-08-17T05:50:19.573784Z",
     "shell.execute_reply.started": "2021-08-17T05:47:43.433239Z"
    },
    "papermill": {
     "duration": 0.036707,
     "end_time": "2021-08-17T05:50:19.573956",
     "exception": false,
     "start_time": "2021-08-17T05:50:19.537249",
     "status": "completed"
    },
    "tags": []
   },
   "outputs": [
    {
     "data": {
      "text/plain": "0    Fungal infection\n1    Fungal infection\n2    Fungal infection\n3    Fungal infection\n4    Fungal infection\n5    Fungal infection\n6    Fungal infection\n7    Fungal infection\n8    Fungal infection\n9    Fungal infection\nName: Disease, dtype: object"
     },
     "execution_count": 12,
     "metadata": {},
     "output_type": "execute_result"
    }
   ],
   "source": [
    "y = combined_df['Disease']\n",
    "y.head(10)"
   ]
  },
  {
   "cell_type": "code",
   "execution_count": 13,
   "id": "b68821ba",
   "metadata": {
    "execution": {
     "iopub.execute_input": "2021-08-17T05:50:19.611351Z",
     "iopub.status.busy": "2021-08-17T05:50:19.610442Z",
     "iopub.status.idle": "2021-08-17T05:50:19.617003Z",
     "shell.execute_reply": "2021-08-17T05:50:19.617581Z",
     "shell.execute_reply.started": "2021-08-17T05:47:56.631404Z"
    },
    "papermill": {
     "duration": 0.02676,
     "end_time": "2021-08-17T05:50:19.617755",
     "exception": false,
     "start_time": "2021-08-17T05:50:19.590995",
     "status": "completed"
    },
    "tags": []
   },
   "outputs": [],
   "source": [
    "trainX, testX, trainY, testY = train_test_split(X, y, test_size = 0.2, random_state = 42)"
   ]
  },
  {
   "cell_type": "code",
   "execution_count": 14,
   "id": "5eebd978",
   "metadata": {
    "execution": {
     "iopub.execute_input": "2021-08-17T05:50:19.660708Z",
     "iopub.status.busy": "2021-08-17T05:50:19.659690Z",
     "iopub.status.idle": "2021-08-17T05:50:22.453701Z",
     "shell.execute_reply": "2021-08-17T05:50:22.453054Z",
     "shell.execute_reply.started": "2021-08-17T05:48:17.138546Z"
    },
    "papermill": {
     "duration": 2.81923,
     "end_time": "2021-08-17T05:50:22.453845",
     "exception": false,
     "start_time": "2021-08-17T05:50:19.634615",
     "status": "completed"
    },
    "tags": []
   },
   "outputs": [
    {
     "data": {
      "text/plain": "Text(0, 0.5, 'Mean Error')"
     },
     "execution_count": 14,
     "metadata": {},
     "output_type": "execute_result"
    },
    {
     "data": {
      "text/plain": "<Figure size 1200x600 with 1 Axes>",
      "image/png": "[encoded data removed]"
     },
     "metadata": {},
     "output_type": "display_data"
    }
   ],
   "source": [
    "error = []\n",
    "\n",
    "\n",
    "for i in range(1, 50):\n",
    "    knn = KNeighborsClassifier(n_neighbors=i)\n",
    "    knn.fit(trainX, trainY)\n",
    "    pred_i = knn.predict(testX)\n",
    "    error.append(np.mean(pred_i != testY))\n",
    "plt.figure(figsize=(12, 6))\n",
    "plt.plot(range(1, 50), error, color='red', linestyle='dashed', marker='o',\n",
    "         markerfacecolor='blue', markersize=10)\n",
    "plt.title('Error Rate K Value')\n",
    "plt.xlabel('K Value')\n",
    "plt.ylabel('Mean Error')"
   ]
  },
  {
   "cell_type": "code",
   "execution_count": 15,
   "id": "825c0fa7",
   "metadata": {
    "execution": {
     "iopub.execute_input": "2021-08-17T05:50:22.507301Z",
     "iopub.status.busy": "2021-08-17T05:50:22.506263Z",
     "iopub.status.idle": "2021-08-17T05:50:22.513679Z",
     "shell.execute_reply": "2021-08-17T05:50:22.513129Z",
     "shell.execute_reply.started": "2021-08-17T05:48:42.499157Z"
    },
    "papermill": {
     "duration": 0.041367,
     "end_time": "2021-08-17T05:50:22.513833",
     "exception": false,
     "start_time": "2021-08-17T05:50:22.472466",
     "status": "completed"
    },
    "tags": []
   },
   "outputs": [
    {
     "data": {
      "text/plain": "KNeighborsClassifier(n_neighbors=1)",
      "text/html": "<style>#sk-container-id-1 {color: black;background-color: white;}#sk-container-id-1 pre{padding: 0;}#sk-container-id-1 div.sk-toggleable {background-color: white;}#sk-container-id-1 label.sk-toggleable__label {cursor: pointer;display: block;width: 100%;margin-bottom: 0;padding: 0.3em;box-sizing: border-box;text-align: center;}#sk-container-id-1 label.sk-toggleable__label-arrow:before {content: \"▸\";float: left;margin-right: 0.25em;color: #696969;}#sk-container-id-1 label.sk-toggleable__label-arrow:hover:before {color: black;}#sk-container-id-1 div.sk-estimator:hover label.sk-toggleable__label-arrow:before {color: black;}#sk-container-id-1 div.sk-toggleable__content {max-height: 0;max-width: 0;overflow: hidden;text-align: left;background-color: #f0f8ff;}#sk-container-id-1 div.sk-toggleable__content pre {margin: 0.2em;color: black;border-radius: 0.25em;background-color: #f0f8ff;}#sk-container-id-1 input.sk-toggleable__control:checked~div.sk-toggleable__content {max-height: 200px;max-width: 100%;overflow: auto;}#sk-container-id-1 input.sk-toggleable__control:checked~label.sk-toggleable__label-arrow:before {content: \"▾\";}#sk-container-id-1 div.sk-estimator input.sk-toggleable__control:checked~label.sk-toggleable__label {background-color: #d4ebff;}#sk-container-id-1 div.sk-label input.sk-toggleable__control:checked~label.sk-toggleable__label {background-color: #d4ebff;}#sk-container-id-1 input.sk-hidden--visually {border: 0;clip: rect(1px 1px 1px 1px);clip: rect(1px, 1px, 1px, 1px);height: 1px;margin: -1px;overflow: hidden;padding: 0;position: absolute;width: 1px;}#sk-container-id-1 div.sk-estimator {font-family: monospace;background-color: #f0f8ff;border: 1px dotted black;border-radius: 0.25em;box-sizing: border-box;margin-bottom: 0.5em;}#sk-container-id-1 div.sk-estimator:hover {background-color: #d4ebff;}#sk-container-id-1 div.sk-parallel-item::after {content: \"\";width: 100%;border-bottom: 1px solid gray;flex-grow: 1;}#sk-container-id-1 div.sk-label:hover label.sk-toggleable__label {background-color: #d4ebff;}#sk-container-id-1 div.sk-serial::before {content: \"\";position: absolute;border-left: 1px solid gray;box-sizing: border-box;top: 0;bottom: 0;left: 50%;z-index: 0;}#sk-container-id-1 div.sk-serial {display: flex;flex-direction: column;align-items: center;background-color: white;padding-right: 0.2em;padding-left: 0.2em;position: relative;}#sk-container-id-1 div.sk-item {position: relative;z-index: 1;}#sk-container-id-1 div.sk-parallel {display: flex;align-items: stretch;justify-content: center;background-color: white;position: relative;}#sk-container-id-1 div.sk-item::before, #sk-container-id-1 div.sk-parallel-item::before {content: \"\";position: absolute;border-left: 1px solid gray;box-sizing: border-box;top: 0;bottom: 0;left: 50%;z-index: -1;}#sk-container-id-1 div.sk-parallel-item {display: flex;flex-direction: column;z-index: 1;position: relative;background-color: white;}#sk-container-id-1 div.sk-parallel-item:first-child::after {align-self: flex-end;width: 50%;}#sk-container-id-1 div.sk-parallel-item:last-child::after {align-self: flex-start;width: 50%;}#sk-container-id-1 div.sk-parallel-item:only-child::after {width: 0;}#sk-container-id-1 div.sk-dashed-wrapped {border: 1px dashed gray;margin: 0 0.4em 0.5em 0.4em;box-sizing: border-box;padding-bottom: 0.4em;background-color: white;}#sk-container-id-1 div.sk-label label {font-family: monospace;font-weight: bold;display: inline-block;line-height: 1.2em;}#sk-container-id-1 div.sk-label-container {text-align: center;}#sk-container-id-1 div.sk-container {/* jupyter's `normalize.less` sets `[hidden] { display: none; }` but bootstrap.min.css set `[hidden] { display: none !important; }` so we also need the `!important` here to be able to override the default hidden behavior on the sphinx rendered scikit-learn.org. See: https://github.com/scikit-learn/scikit-learn/issues/21755 */display: inline-block !important;position: relative;}#sk-container-id-1 div.sk-text-repr-fallback {display: none;}</style><div id=\"sk-container-id-1\" class=\"sk-top-container\"><div class=\"sk-text-repr-fallback\"><pre>KNeighborsClassifier(n_neighbors=1)</pre><b>In a Jupyter environment, please rerun this cell to show the HTML representation or trust the notebook. <br />On GitHub, the HTML representation is unable to render, please try loading this page with nbviewer.org.</b></div><div class=\"sk-container\" hidden><div class=\"sk-item\"><div class=\"sk-estimator sk-toggleable\"><input class=\"sk-toggleable__control sk-hidden--visually\" id=\"sk-estimator-id-1\" type=\"checkbox\" checked><label for=\"sk-estimator-id-1\" class=\"sk-toggleable__label sk-toggleable__label-arrow\">KNeighborsClassifier</label><div class=\"sk-toggleable__content\"><pre>KNeighborsClassifier(n_neighbors=1)</pre></div></div></div></div></div>"
     },
     "execution_count": 15,
     "metadata": {},
     "output_type": "execute_result"
    }
   ],
   "source": [
    "classifier = KNeighborsClassifier(n_neighbors=1)\n",
    "classifier.fit(trainX, trainY)"
   ]
  },
  {
   "cell_type": "code",
   "execution_count": 16,
   "id": "a46b99e7",
   "metadata": {
    "execution": {
     "iopub.execute_input": "2021-08-17T05:50:22.558591Z",
     "iopub.status.busy": "2021-08-17T05:50:22.557922Z",
     "iopub.status.idle": "2021-08-17T05:50:22.596563Z",
     "shell.execute_reply": "2021-08-17T05:50:22.595896Z",
     "shell.execute_reply.started": "2021-08-17T05:48:58.691814Z"
    },
    "papermill": {
     "duration": 0.063621,
     "end_time": "2021-08-17T05:50:22.596717",
     "exception": false,
     "start_time": "2021-08-17T05:50:22.533096",
     "status": "completed"
    },
    "tags": []
   },
   "outputs": [],
   "source": [
    "y_pred = classifier.predict(testX)"
   ]
  },
  {
   "cell_type": "code",
   "execution_count": 17,
   "id": "e009183b",
   "metadata": {
    "execution": {
     "iopub.execute_input": "2021-08-17T05:50:22.647282Z",
     "iopub.status.busy": "2021-08-17T05:50:22.646571Z",
     "iopub.status.idle": "2021-08-17T05:50:22.690089Z",
     "shell.execute_reply": "2021-08-17T05:50:22.690582Z",
     "shell.execute_reply.started": "2021-08-17T05:49:15.267677Z"
    },
    "papermill": {
     "duration": 0.075358,
     "end_time": "2021-08-17T05:50:22.690767",
     "exception": false,
     "start_time": "2021-08-17T05:50:22.615409",
     "status": "completed"
    },
    "tags": []
   },
   "outputs": [
    {
     "name": "stdout",
     "output_type": "stream",
     "text": [
      "                                         precision    recall  f1-score   support\n",
      "\n",
      "(vertigo) Paroymsal  Positional Vertigo       1.00      1.00      1.00        22\n",
      "                                   AIDS       1.00      1.00      1.00        29\n",
      "                                   Acne       1.00      1.00      1.00        24\n",
      "                    Alcoholic hepatitis       1.00      1.00      1.00        23\n",
      "                                Allergy       1.00      1.00      1.00        35\n",
      "                              Arthritis       1.00      1.00      1.00        18\n",
      "                       Bronchial Asthma       1.00      1.00      1.00        27\n",
      "                   Cervical spondylosis       1.00      1.00      1.00        27\n",
      "                            Chicken pox       1.00      1.00      1.00        25\n",
      "                    Chronic cholestasis       1.00      1.00      1.00        29\n",
      "                            Common Cold       1.00      1.00      1.00        25\n",
      "                                 Dengue       1.00      1.00      1.00        20\n",
      "                          Drug Reaction       1.00      1.00      1.00        25\n",
      "                       Fungal infection       1.00      1.00      1.00        22\n",
      "                                   GERD       1.00      1.00      1.00        25\n",
      "                        Gastroenteritis       1.00      1.00      1.00        21\n",
      "                           Heart attack       1.00      1.00      1.00        25\n",
      "                            Hepatitis B       1.00      1.00      1.00        22\n",
      "                            Hepatitis C       1.00      1.00      1.00        23\n",
      "                            Hepatitis D       0.96      0.96      0.96        28\n",
      "                            Hepatitis E       1.00      0.96      0.98        26\n",
      "                        Hyperthyroidism       1.00      1.00      1.00        20\n",
      "                           Hypoglycemia       1.00      1.00      1.00        26\n",
      "                         Hypothyroidism       1.00      1.00      1.00        20\n",
      "                               Impetigo       1.00      1.00      1.00        22\n",
      "                               Jaundice       1.00      1.00      1.00        24\n",
      "                                Malaria       1.00      1.00      1.00        22\n",
      "                               Migraine       1.00      1.00      1.00        32\n",
      "                        Osteoarthristis       1.00      1.00      1.00        24\n",
      "           Paralysis (brain hemorrhage)       1.00      1.00      1.00        26\n",
      "                    Peptic ulcer diseae       1.00      1.00      1.00        19\n",
      "                              Pneumonia       1.00      1.00      1.00        22\n",
      "                              Psoriasis       1.00      1.00      1.00        21\n",
      "                           Tuberculosis       1.00      1.00      1.00        24\n",
      "                                Typhoid       1.00      1.00      1.00        17\n",
      "                Urinary tract infection       1.00      1.00      1.00        33\n",
      "                         Varicose veins       1.00      1.00      1.00        21\n",
      "                            hepatitis A       0.95      1.00      0.97        18\n",
      "\n",
      "                               accuracy                           1.00       912\n",
      "                              macro avg       1.00      1.00      1.00       912\n",
      "                           weighted avg       1.00      1.00      1.00       912\n",
      "\n"
     ]
    }
   ],
   "source": [
    "print(classification_report(testY, y_pred))"
   ]
  },
  {
   "cell_type": "code",
   "execution_count": 17,
   "id": "c479b421",
   "metadata": {
    "papermill": {
     "duration": 0.019161,
     "end_time": "2021-08-17T05:50:22.728931",
     "exception": false,
     "start_time": "2021-08-17T05:50:22.709770",
     "status": "completed"
    },
    "tags": []
   },
   "outputs": [],
   "source": []
  },
  {
   "cell_type": "code",
   "execution_count": 17,
   "outputs": [],
   "source": [],
   "metadata": {
    "collapsed": false
   }
  }
 ],
 "metadata": {
  "kernelspec": {
   "display_name": "Python 3",
   "language": "python",
   "name": "python3"
  },
  "language_info": {
   "codemirror_mode": {
    "name": "ipython",
    "version": 3
   },
   "file_extension": ".py",
   "mimetype": "text/x-python",
   "name": "python",
   "nbconvert_exporter": "python",
   "pygments_lexer": "ipython3",
   "version": "3.7.10"
  },
  "papermill": {
   "default_parameters": {},
   "duration": 14.831259,
   "end_time": "2021-08-17T05:50:24.341769",
   "environment_variables": {},
   "exception": null,
   "input_path": "__notebook__.ipynb",
   "output_path": "__notebook__.ipynb",
   "parameters": {},
   "start_time": "2021-08-17T05:50:09.510510",
   "version": "2.3.3"
  }
 },
 "nbformat": 4,
 "nbformat_minor": 5
}
